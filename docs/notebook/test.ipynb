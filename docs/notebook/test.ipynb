{
 "cells": [
  {
   "cell_type": "code",
   "execution_count": null,
   "id": "bd606ad5",
   "metadata": {},
   "outputs": [],
   "source": [
    "import jax.numpy as jnp\n",
    "import numpyro\n",
    "import numpyro.distributions as dist\n",
    "from jax import random\n",
    "from jax.typing import ArrayLike\n",
    "from numpyro import sample\n",
    "from numpyro.infer import SVI, Trace_ELBO\n",
    "from numpyro.infer.autoguide import AutoNormal\n",
    "\n",
    "from aimz.model import ImpactModel\n",
    "\n",
    "\n",
    "def lm(X: ArrayLike, y: ArrayLike | None = None) -> None:\n",
    "    \"\"\"Linear regression model.\"\"\"\n",
    "    n_features = X.shape[1]\n",
    "\n",
    "    # Priors for weights and bias\n",
    "    w = sample(\"w\", dist.Normal(jnp.zeros(n_features), jnp.ones(n_features)))\n",
    "    b = sample(\"b\", dist.Normal())\n",
    "\n",
    "    # Likelihood\n",
    "    mu = jnp.dot(X, w) + b\n",
    "    sigma = sample(\"sigma\", dist.Exponential())\n",
    "    sample(\"y\", dist.Normal(mu, sigma), obs=y)\n",
    "\n",
    "\n",
    "rng_key = random.key(42)\n",
    "key_w, key_b, key_x, key_e = random.split(rng_key, 4)\n",
    "\n",
    "w = random.normal(key_w, (10,))\n",
    "b = random.normal(key_b)\n",
    "\n",
    "X = random.normal(key_x, (100000, 10))\n",
    "e = random.normal(key_e, (100000,))\n",
    "y = jnp.dot(X, w) + b + e\n",
    "\n",
    "\n",
    "im = ImpactModel(\n",
    "    lm,\n",
    "    rng_key=random.key(42),\n",
    "    inference=SVI(\n",
    "        lm,\n",
    "        guide=AutoNormal(lm),\n",
    "        optim=numpyro.optim.Adam(step_size=1e-3),\n",
    "        loss=Trace_ELBO(),\n",
    "    ),\n",
    ")\n",
    "im.fit(X=X, y=y, epochs=1, batch_size=100, progress=True)\n",
    "im.predict(X=X, batch_size=100)\n",
    "im.cleanup()"
   ]
  }
 ],
 "metadata": {
  "kernelspec": {
   "display_name": "aimz",
   "language": "python",
   "name": "python3"
  },
  "language_info": {
   "codemirror_mode": {
    "name": "ipython",
    "version": 3
   },
   "file_extension": ".py",
   "mimetype": "text/x-python",
   "name": "python",
   "nbconvert_exporter": "python",
   "pygments_lexer": "ipython3",
   "version": "3.13.5"
  }
 },
 "nbformat": 4,
 "nbformat_minor": 5
}
