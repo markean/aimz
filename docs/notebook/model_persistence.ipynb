{
 "cells": [
  {
   "cell_type": "markdown",
   "id": "f09e48b0",
   "metadata": {},
   "source": [
    "# Model Persistence\n",
    "\n",
    "[![Open In Colab](https://colab.research.google.com/assets/colab-badge.svg)](https://colab.research.google.com/github/markean/aimz/blob/main/docs/notebook/model_persistence.ipynb)\n",
    "\n",
    "Model persistence allows you to save a trained model to disk and reload it later for inference or continued training.\n",
    "This documentation shows how to serialize and deserialize an `ImpactModel` instance using the [`dill`](https://pypi.org/project/dill/) package.\n",
    "`dill` can handle a wider range of Python objects than the standard `pickle` module, including closures and local functions, making it convenient to use and reducing boilerplate code."
   ]
  },
  {
   "cell_type": "markdown",
   "id": "0072835f",
   "metadata": {},
   "source": [
    "## Model Training"
   ]
  },
  {
   "cell_type": "code",
   "execution_count": null,
   "id": "9bfc4faf",
   "metadata": {},
   "outputs": [],
   "source": [
    "from pathlib import Path\n",
    "\n",
    "import dill\n",
    "import jax.numpy as jnp\n",
    "import numpyro.distributions as dist\n",
    "from jax import random\n",
    "from jax.typing import ArrayLike\n",
    "from numpyro import optim, sample\n",
    "from numpyro.infer import SVI, Trace_ELBO\n",
    "from numpyro.infer.autoguide import AutoNormal\n",
    "\n",
    "from aimz.model import ImpactModel\n",
    "\n",
    "\n",
    "def model(X: ArrayLike, y: ArrayLike | None = None) -> None:\n",
    "    \"\"\"Linear regression model.\"\"\"\n",
    "    w = sample(\"w\", dist.Normal().expand((X.shape[1],)))\n",
    "    b = sample(\"b\", dist.Normal())\n",
    "    mu = jnp.dot(X, w) + b\n",
    "    sigma = sample(\"sigma\", dist.Exponential())\n",
    "    sample(\"y\", dist.Normal(mu, sigma), obs=y)\n",
    "\n",
    "\n",
    "rng_key = random.key(42)\n",
    "rng_key, rng_key_w, rng_key_b, rng_key_x, rng_key_e = random.split(rng_key, 5)\n",
    "w = random.normal(rng_key_w, (10,))\n",
    "b = random.normal(rng_key_b)\n",
    "X = random.normal(rng_key_x, (1000, 10))\n",
    "e = random.normal(rng_key_e, (1000,))\n",
    "y = jnp.dot(X, w) + b + e\n",
    "\n",
    "rng_key, rng_subkey = random.split(rng_key)\n",
    "im = ImpactModel(\n",
    "    model,\n",
    "    rng_key=rng_subkey,\n",
    "    inference=SVI(\n",
    "        model,\n",
    "        guide=AutoNormal(model),\n",
    "        optim=optim.Adam(step_size=1e-3),\n",
    "        loss=Trace_ELBO(),\n",
    "    ),\n",
    ")\n",
    "im.fit_on_batch(X, y)"
   ]
  },
  {
   "cell_type": "markdown",
   "id": "e7ba3809",
   "metadata": {},
   "source": [
    "## Serialization\n",
    "\n",
    "Save a trained `ImpactModel` (and optionally its input data) to disk for later use:"
   ]
  },
  {
   "cell_type": "code",
   "execution_count": null,
   "id": "7b63cd0c",
   "metadata": {},
   "outputs": [],
   "source": [
    "with Path.open(\"train.dill\", \"wb\") as f:\n",
    "    dill.dump((im, X, y), f)"
   ]
  },
  {
   "cell_type": "markdown",
   "id": "855fe75b",
   "metadata": {},
   "source": [
    "## Deserialization\n",
    "\n",
    "Load a previously saved `ImpactModel` (and optionally its input data) from disk in a fresh new session or different runtime environment. To use the loaded model correctly, the same dependencies, imports, and any constants or variables that the `model` relied on when it was saved must be available. Any JAX array—whether part of the `ImpactModel` or the input data—will be placed on the default device."
   ]
  },
  {
   "cell_type": "code",
   "execution_count": null,
   "id": "89a7ae17",
   "metadata": {},
   "outputs": [],
   "source": [
    "from pathlib import Path\n",
    "\n",
    "import dill\n",
    "import jax.numpy as jnp\n",
    "import numpyro.distributions as dist\n",
    "from numpyro import sample\n",
    "\n",
    "with Path.open(\"train.dill\", \"rb\") as f:\n",
    "    im, X, y = dill.load(f)"
   ]
  },
  {
   "cell_type": "markdown",
   "id": "35408bce",
   "metadata": {},
   "source": [
    "## Model Usage"
   ]
  },
  {
   "cell_type": "code",
   "execution_count": null,
   "id": "187b0a2e",
   "metadata": {},
   "outputs": [],
   "source": [
    "# Resume training from the previous SVI state\n",
    "im.fit_on_batch(X, y)\n",
    "\n",
    "# Predict using the loaded model\n",
    "im.predict_on_batch(X)"
   ]
  },
  {
   "cell_type": "markdown",
   "id": "32c6f870",
   "metadata": {},
   "source": [
    "## Resources\n",
    "\n",
    "- [`dill` documentation](https://dill.readthedocs.io/en/latest/)\n",
    "- [`jax` `Array` serialization](https://docs.jax.dev/en/latest/jax.numpy.html#copying-and-serialization)"
   ]
  }
 ],
 "metadata": {
  "kernelspec": {
   "display_name": "aimz",
   "language": "python",
   "name": "python3"
  },
  "language_info": {
   "codemirror_mode": {
    "name": "ipython",
    "version": 3
   },
   "file_extension": ".py",
   "mimetype": "text/x-python",
   "name": "python",
   "nbconvert_exporter": "python",
   "pygments_lexer": "ipython3",
   "version": "3.13.5"
  }
 },
 "nbformat": 4,
 "nbformat_minor": 5
}
